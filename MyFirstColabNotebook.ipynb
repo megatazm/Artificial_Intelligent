{
  "nbformat": 4,
  "nbformat_minor": 0,
  "metadata": {
    "colab": {
      "name": "MyFirstColabNotebook.ipynb",
      "provenance": [],
      "collapsed_sections": [],
      "authorship_tag": "ABX9TyOXYSm50+iFIKW4UuaWy8Bw",
      "include_colab_link": true
    },
    "kernelspec": {
      "name": "python3",
      "display_name": "Python 3"
    }
  },
  "cells": [
    {
      "cell_type": "markdown",
      "metadata": {
        "id": "view-in-github",
        "colab_type": "text"
      },
      "source": [
        "<a href=\"https://colab.research.google.com/github/megatazm/Artificial_Intelligent/blob/master/MyFirstColabNotebook.ipynb\" target=\"_parent\"><img src=\"https://colab.research.google.com/assets/colab-badge.svg\" alt=\"Open In Colab\"/></a>"
      ]
    },
    {
      "cell_type": "code",
      "metadata": {
        "id": "eqO1W4uFnXJ5",
        "colab_type": "code",
        "outputId": "26e01e1a-7481-4396-c8af-232bdfb16cd3",
        "colab": {
          "base_uri": "https://localhost:8080/",
          "height": 34
        }
      },
      "source": [
        "import time\n",
        "print(time.ctime())"
      ],
      "execution_count": 0,
      "outputs": [
        {
          "output_type": "stream",
          "text": [
            "Thu Jan 30 14:08:30 2020\n"
          ],
          "name": "stdout"
        }
      ]
    },
    {
      "cell_type": "code",
      "metadata": {
        "id": "TimcL9ywwefo",
        "colab_type": "code",
        "outputId": "7c0d3024-62e3-4e8b-c8f1-28896d341bf9",
        "colab": {
          "base_uri": "https://localhost:8080/",
          "height": 34
        }
      },
      "source": [
        "time.sleep(5)\n",
        "print (time.ctime())"
      ],
      "execution_count": 0,
      "outputs": [
        {
          "output_type": "stream",
          "text": [
            "Thu Jan 30 14:08:35 2020\n"
          ],
          "name": "stdout"
        }
      ]
    },
    {
      "cell_type": "markdown",
      "metadata": {
        "id": "wvw2apfF086I",
        "colab_type": "text"
      },
      "source": [
        "This is **bold**.\n",
        "This is *italic*.\n",
        "This is ~strikethrough~."
      ]
    },
    {
      "cell_type": "markdown",
      "metadata": {
        "id": "wqZogfg91Py5",
        "colab_type": "text"
      },
      "source": [
        "$\\sqrt{3x-1}+(1+x)^2$\n",
        "\n",
        "\n",
        "\n",
        "$e^x = \\sum_{i = 0}^\\infty \\frac{1}{i!}x^i$\n"
      ]
    },
    {
      "cell_type": "markdown",
      "metadata": {
        "id": "tHXNaFXJ1tDL",
        "colab_type": "text"
      },
      "source": [
        "Constraints are\n",
        "   - $3x_1 + 6x_2 + x_3 =< 28$\n",
        "   - $7x_1 + 3x_2 + 2x_3 =< 37$\n",
        "   - $4x_1 + 5x_2 + 2x_3 =< 19$\n",
        "   - $x_1,x_2,x_3 >=0 $\n",
        "\n",
        "The trial vector is calculated as follows:\n",
        "- $u_i(t) = x_i(t) + \\beta(\\hat{x}(t) − x_i(t)) + \\beta \\sum_{k = 1}^{n_v}(x_{i1,k}(t) − x_{i2,k}(t))$\n",
        "$f(x_1, x_2) = 20 + e - 20exp(-0.2 \\sqrt {\\frac {1}{n} (x_1^2 + x_2^2)}) - exp (\\frac {1}{n}(cos(2\\pi x_1) + cos(2\\pi x_2))$\n",
        "\n",
        "$x ∈ [-5, 5]$\n",
        ">$A_{m,n} =\n",
        "   \\begin{pmatrix}\n",
        "   a_{1,1} > a_{1,2} > \\cdots > a_{1,n} \\\\\n",
        "   a_{2,1} > a_{2,2} > \\cdots > a_{2,n} \\\\\n",
        "   \\vdots > \\vdots > \\ddots > \\vdots \\\\\n",
        "   a_{m,1} > a_{m,2} > \\cdots > a_{m,n}\n",
        "   \\end{pmatrix}$\n",
        "\n",
        "   "
      ]
    },
    {
      "cell_type": "code",
      "metadata": {
        "id": "0RBOVeS2Jb4T",
        "colab_type": "code",
        "colab": {
          "base_uri": "https://localhost:8080/",
          "height": 122
        },
        "outputId": "5602ec22-4b25-4a32-8998-e4dadee98de1"
      },
      "source": [
        "from google.colab import drive\n",
        "drive.mount('/content/gdrive')"
      ],
      "execution_count": 8,
      "outputs": [
        {
          "output_type": "stream",
          "text": [
            "Go to this URL in a browser: https://accounts.google.com/o/oauth2/auth?client_id=947318989803-6bn6qk8qdgf4n4g3pfee6491hc0brc4i.apps.googleusercontent.com&redirect_uri=urn%3aietf%3awg%3aoauth%3a2.0%3aoob&response_type=code&scope=email%20https%3a%2f%2fwww.googleapis.com%2fauth%2fdocs.test%20https%3a%2f%2fwww.googleapis.com%2fauth%2fdrive%20https%3a%2f%2fwww.googleapis.com%2fauth%2fdrive.photos.readonly%20https%3a%2f%2fwww.googleapis.com%2fauth%2fpeopleapi.readonly\n",
            "\n",
            "Enter your authorization code:\n",
            "··········\n",
            "Mounted at /content/gdrive\n"
          ],
          "name": "stdout"
        }
      ]
    },
    {
      "cell_type": "code",
      "metadata": {
        "id": "5ag7axM9-zCG",
        "colab_type": "code",
        "outputId": "4f8fc685-8b6d-48d7-ca91-e2aaf33a1c2e",
        "colab": {
          "base_uri": "https://localhost:8080/",
          "height": 204
        }
      },
      "source": [
        "!wget http://mlr.cs.umass.edu/ml/machine-learning-databases/adult/adult.data -P \"/content/gdrive/My Drive/Colab Notebooks/\""
      ],
      "execution_count": 11,
      "outputs": [
        {
          "output_type": "stream",
          "text": [
            "--2020-01-31 01:14:36--  http://mlr.cs.umass.edu/ml/machine-learning-databases/adult/adult.data\n",
            "Resolving mlr.cs.umass.edu (mlr.cs.umass.edu)... 128.119.246.96\n",
            "Connecting to mlr.cs.umass.edu (mlr.cs.umass.edu)|128.119.246.96|:80... connected.\n",
            "HTTP request sent, awaiting response... 200 OK\n",
            "Length: 3974305 (3.8M) [text/plain]\n",
            "Saving to: ‘/content/gdrive/My Drive/Colab Notebooks/adult.data’\n",
            "\n",
            "adult.data          100%[===================>]   3.79M  5.36MB/s    in 0.7s    \n",
            "\n",
            "2020-01-31 01:14:37 (5.36 MB/s) - ‘/content/gdrive/My Drive/Colab Notebooks/adult.data’ saved [3974305/3974305]\n",
            "\n"
          ],
          "name": "stdout"
        }
      ]
    },
    {
      "cell_type": "code",
      "metadata": {
        "id": "_1Q1bm1z_q9e",
        "colab_type": "code",
        "outputId": "152913fa-d83f-4fe3-dcab-964e6bc9cf9f",
        "colab": {
          "base_uri": "https://localhost:8080/",
          "height": 359
        }
      },
      "source": [
        "import pandas as pd\n",
        "data = pd.read_csv(\"/content/gdrive/My Drive/Colab Notebooks/adult.data\")\n",
        "data.head(10)"
      ],
      "execution_count": 16,
      "outputs": [
        {
          "output_type": "execute_result",
          "data": {
            "text/html": [
              "<div>\n",
              "<style scoped>\n",
              "    .dataframe tbody tr th:only-of-type {\n",
              "        vertical-align: middle;\n",
              "    }\n",
              "\n",
              "    .dataframe tbody tr th {\n",
              "        vertical-align: top;\n",
              "    }\n",
              "\n",
              "    .dataframe thead th {\n",
              "        text-align: right;\n",
              "    }\n",
              "</style>\n",
              "<table border=\"1\" class=\"dataframe\">\n",
              "  <thead>\n",
              "    <tr style=\"text-align: right;\">\n",
              "      <th></th>\n",
              "      <th>39</th>\n",
              "      <th>State-gov</th>\n",
              "      <th>77516</th>\n",
              "      <th>Bachelors</th>\n",
              "      <th>13</th>\n",
              "      <th>Never-married</th>\n",
              "      <th>Adm-clerical</th>\n",
              "      <th>Not-in-family</th>\n",
              "      <th>White</th>\n",
              "      <th>Male</th>\n",
              "      <th>2174</th>\n",
              "      <th>0</th>\n",
              "      <th>40</th>\n",
              "      <th>United-States</th>\n",
              "      <th>&lt;=50K</th>\n",
              "    </tr>\n",
              "  </thead>\n",
              "  <tbody>\n",
              "    <tr>\n",
              "      <th>0</th>\n",
              "      <td>50</td>\n",
              "      <td>Self-emp-not-inc</td>\n",
              "      <td>83311</td>\n",
              "      <td>Bachelors</td>\n",
              "      <td>13</td>\n",
              "      <td>Married-civ-spouse</td>\n",
              "      <td>Exec-managerial</td>\n",
              "      <td>Husband</td>\n",
              "      <td>White</td>\n",
              "      <td>Male</td>\n",
              "      <td>0</td>\n",
              "      <td>0</td>\n",
              "      <td>13</td>\n",
              "      <td>United-States</td>\n",
              "      <td>&lt;=50K</td>\n",
              "    </tr>\n",
              "    <tr>\n",
              "      <th>1</th>\n",
              "      <td>38</td>\n",
              "      <td>Private</td>\n",
              "      <td>215646</td>\n",
              "      <td>HS-grad</td>\n",
              "      <td>9</td>\n",
              "      <td>Divorced</td>\n",
              "      <td>Handlers-cleaners</td>\n",
              "      <td>Not-in-family</td>\n",
              "      <td>White</td>\n",
              "      <td>Male</td>\n",
              "      <td>0</td>\n",
              "      <td>0</td>\n",
              "      <td>40</td>\n",
              "      <td>United-States</td>\n",
              "      <td>&lt;=50K</td>\n",
              "    </tr>\n",
              "    <tr>\n",
              "      <th>2</th>\n",
              "      <td>53</td>\n",
              "      <td>Private</td>\n",
              "      <td>234721</td>\n",
              "      <td>11th</td>\n",
              "      <td>7</td>\n",
              "      <td>Married-civ-spouse</td>\n",
              "      <td>Handlers-cleaners</td>\n",
              "      <td>Husband</td>\n",
              "      <td>Black</td>\n",
              "      <td>Male</td>\n",
              "      <td>0</td>\n",
              "      <td>0</td>\n",
              "      <td>40</td>\n",
              "      <td>United-States</td>\n",
              "      <td>&lt;=50K</td>\n",
              "    </tr>\n",
              "    <tr>\n",
              "      <th>3</th>\n",
              "      <td>28</td>\n",
              "      <td>Private</td>\n",
              "      <td>338409</td>\n",
              "      <td>Bachelors</td>\n",
              "      <td>13</td>\n",
              "      <td>Married-civ-spouse</td>\n",
              "      <td>Prof-specialty</td>\n",
              "      <td>Wife</td>\n",
              "      <td>Black</td>\n",
              "      <td>Female</td>\n",
              "      <td>0</td>\n",
              "      <td>0</td>\n",
              "      <td>40</td>\n",
              "      <td>Cuba</td>\n",
              "      <td>&lt;=50K</td>\n",
              "    </tr>\n",
              "    <tr>\n",
              "      <th>4</th>\n",
              "      <td>37</td>\n",
              "      <td>Private</td>\n",
              "      <td>284582</td>\n",
              "      <td>Masters</td>\n",
              "      <td>14</td>\n",
              "      <td>Married-civ-spouse</td>\n",
              "      <td>Exec-managerial</td>\n",
              "      <td>Wife</td>\n",
              "      <td>White</td>\n",
              "      <td>Female</td>\n",
              "      <td>0</td>\n",
              "      <td>0</td>\n",
              "      <td>40</td>\n",
              "      <td>United-States</td>\n",
              "      <td>&lt;=50K</td>\n",
              "    </tr>\n",
              "    <tr>\n",
              "      <th>5</th>\n",
              "      <td>49</td>\n",
              "      <td>Private</td>\n",
              "      <td>160187</td>\n",
              "      <td>9th</td>\n",
              "      <td>5</td>\n",
              "      <td>Married-spouse-absent</td>\n",
              "      <td>Other-service</td>\n",
              "      <td>Not-in-family</td>\n",
              "      <td>Black</td>\n",
              "      <td>Female</td>\n",
              "      <td>0</td>\n",
              "      <td>0</td>\n",
              "      <td>16</td>\n",
              "      <td>Jamaica</td>\n",
              "      <td>&lt;=50K</td>\n",
              "    </tr>\n",
              "    <tr>\n",
              "      <th>6</th>\n",
              "      <td>52</td>\n",
              "      <td>Self-emp-not-inc</td>\n",
              "      <td>209642</td>\n",
              "      <td>HS-grad</td>\n",
              "      <td>9</td>\n",
              "      <td>Married-civ-spouse</td>\n",
              "      <td>Exec-managerial</td>\n",
              "      <td>Husband</td>\n",
              "      <td>White</td>\n",
              "      <td>Male</td>\n",
              "      <td>0</td>\n",
              "      <td>0</td>\n",
              "      <td>45</td>\n",
              "      <td>United-States</td>\n",
              "      <td>&gt;50K</td>\n",
              "    </tr>\n",
              "    <tr>\n",
              "      <th>7</th>\n",
              "      <td>31</td>\n",
              "      <td>Private</td>\n",
              "      <td>45781</td>\n",
              "      <td>Masters</td>\n",
              "      <td>14</td>\n",
              "      <td>Never-married</td>\n",
              "      <td>Prof-specialty</td>\n",
              "      <td>Not-in-family</td>\n",
              "      <td>White</td>\n",
              "      <td>Female</td>\n",
              "      <td>14084</td>\n",
              "      <td>0</td>\n",
              "      <td>50</td>\n",
              "      <td>United-States</td>\n",
              "      <td>&gt;50K</td>\n",
              "    </tr>\n",
              "    <tr>\n",
              "      <th>8</th>\n",
              "      <td>42</td>\n",
              "      <td>Private</td>\n",
              "      <td>159449</td>\n",
              "      <td>Bachelors</td>\n",
              "      <td>13</td>\n",
              "      <td>Married-civ-spouse</td>\n",
              "      <td>Exec-managerial</td>\n",
              "      <td>Husband</td>\n",
              "      <td>White</td>\n",
              "      <td>Male</td>\n",
              "      <td>5178</td>\n",
              "      <td>0</td>\n",
              "      <td>40</td>\n",
              "      <td>United-States</td>\n",
              "      <td>&gt;50K</td>\n",
              "    </tr>\n",
              "    <tr>\n",
              "      <th>9</th>\n",
              "      <td>37</td>\n",
              "      <td>Private</td>\n",
              "      <td>280464</td>\n",
              "      <td>Some-college</td>\n",
              "      <td>10</td>\n",
              "      <td>Married-civ-spouse</td>\n",
              "      <td>Exec-managerial</td>\n",
              "      <td>Husband</td>\n",
              "      <td>Black</td>\n",
              "      <td>Male</td>\n",
              "      <td>0</td>\n",
              "      <td>0</td>\n",
              "      <td>80</td>\n",
              "      <td>United-States</td>\n",
              "      <td>&gt;50K</td>\n",
              "    </tr>\n",
              "  </tbody>\n",
              "</table>\n",
              "</div>"
            ],
            "text/plain": [
              "   39          State-gov   77516  ...  40   United-States   <=50K\n",
              "0  50   Self-emp-not-inc   83311  ...  13   United-States   <=50K\n",
              "1  38            Private  215646  ...  40   United-States   <=50K\n",
              "2  53            Private  234721  ...  40   United-States   <=50K\n",
              "3  28            Private  338409  ...  40            Cuba   <=50K\n",
              "4  37            Private  284582  ...  40   United-States   <=50K\n",
              "5  49            Private  160187  ...  16         Jamaica   <=50K\n",
              "6  52   Self-emp-not-inc  209642  ...  45   United-States    >50K\n",
              "7  31            Private   45781  ...  50   United-States    >50K\n",
              "8  42            Private  159449  ...  40   United-States    >50K\n",
              "9  37            Private  280464  ...  80   United-States    >50K\n",
              "\n",
              "[10 rows x 15 columns]"
            ]
          },
          "metadata": {
            "tags": []
          },
          "execution_count": 16
        }
      ]
    },
    {
      "cell_type": "code",
      "metadata": {
        "id": "3gsXaAeP-1jk",
        "colab_type": "code",
        "colab": {
          "base_uri": "https://localhost:8080/",
          "height": 85
        },
        "outputId": "276f1447-2e3d-40a9-affa-9f260a4ce9f8"
      },
      "source": [
        "!git clone https://github.com/wxs/keras-mnist-tutorial.git\n"
      ],
      "execution_count": 1,
      "outputs": [
        {
          "output_type": "stream",
          "text": [
            "Cloning into 'keras-mnist-tutorial'...\n",
            "remote: Enumerating objects: 26, done.\u001b[K\n",
            "Unpacking objects:   3% (1/26)   \rUnpacking objects:   7% (2/26)   \rUnpacking objects:  11% (3/26)   \rUnpacking objects:  15% (4/26)   \rUnpacking objects:  19% (5/26)   \rUnpacking objects:  23% (6/26)   \rUnpacking objects:  26% (7/26)   \rUnpacking objects:  30% (8/26)   \rUnpacking objects:  34% (9/26)   \rUnpacking objects:  38% (10/26)   \rUnpacking objects:  42% (11/26)   \rremote: Total 26 (delta 0), reused 0 (delta 0), pack-reused 26\u001b[K\n",
            "Unpacking objects:  46% (12/26)   \rUnpacking objects:  50% (13/26)   \rUnpacking objects:  53% (14/26)   \rUnpacking objects:  57% (15/26)   \rUnpacking objects:  61% (16/26)   \rUnpacking objects:  65% (17/26)   \rUnpacking objects:  69% (18/26)   \rUnpacking objects:  73% (19/26)   \rUnpacking objects:  76% (20/26)   \rUnpacking objects:  80% (21/26)   \rUnpacking objects:  84% (22/26)   \rUnpacking objects:  88% (23/26)   \rUnpacking objects:  92% (24/26)   \rUnpacking objects:  96% (25/26)   \rUnpacking objects: 100% (26/26)   \rUnpacking objects: 100% (26/26), done.\n"
          ],
          "name": "stdout"
        }
      ]
    },
    {
      "cell_type": "code",
      "metadata": {
        "id": "qIde_afSMIwc",
        "colab_type": "code",
        "colab": {}
      },
      "source": [
        "!ls /bin\n"
      ],
      "execution_count": 0,
      "outputs": []
    },
    {
      "cell_type": "code",
      "metadata": {
        "id": "Nb7Mp5fhPwtN",
        "colab_type": "code",
        "colab": {
          "base_uri": "https://localhost:8080/",
          "height": 281
        },
        "outputId": "3ff7413b-eb3c-44a9-9069-228eb7a0b843"
      },
      "source": [
        "import numpy as np\n",
        "from matplotlib import pyplot as plt\n",
        "\n",
        "y = np.random.randn(100)\n",
        "x = [x for x in range(len(y))]\n",
        "\n",
        "plt.plot(x, y, '-')\n",
        "plt.fill_between(x, y, 200, where = (y > 195), facecolor='g', alpha=0.6)\n",
        "\n",
        "plt.title(\"Sample Plot\")\n",
        "plt.show()"
      ],
      "execution_count": 20,
      "outputs": [
        {
          "output_type": "display_data",
          "data": {
            "image/png": "[encoded data removed]",
            "text/plain": [
              "<Figure size 432x288 with 1 Axes>"
            ]
          },
          "metadata": {
            "tags": []
          }
        }
      ]
    },
    {
      "cell_type": "code",
      "metadata": {
        "id": "D4Toq31vTpHw",
        "colab_type": "code",
        "colab": {}
      },
      "source": [
        "import torch\n",
        "\n",
        "torch=torch.cos()"
      ],
      "execution_count": 0,
      "outputs": []
    },
    {
      "cell_type": "code",
      "metadata": {
        "id": "NmOtVgoOWj8L",
        "colab_type": "code",
        "colab": {
          "base_uri": "https://localhost:8080/",
          "height": 85
        },
        "outputId": "8bf68d2b-9f2e-4f8d-a986-47aaf930452a"
      },
      "source": [
        "%ldir\n"
      ],
      "execution_count": 22,
      "outputs": [
        {
          "output_type": "stream",
          "text": [
            "drwxr-xr-x 3 root 4096 Jan 31 01:14 \u001b[0m\u001b[01;34mdrive\u001b[0m/\n",
            "drwx------ 4 root 4096 Jan 31 01:11 \u001b[01;34mgdrive\u001b[0m/\n",
            "drwxr-xr-x 3 root 4096 Jan 31 00:24 \u001b[01;34mkeras-mnist-tutorial\u001b[0m/\n",
            "drwxr-xr-x 1 root 4096 Jan 13 16:38 \u001b[01;34msample_data\u001b[0m/\n"
          ],
          "name": "stdout"
        }
      ]
    },
    {
      "cell_type": "code",
      "metadata": {
        "id": "E_QgkvQNWpyW",
        "colab_type": "code",
        "colab": {
          "base_uri": "https://localhost:8080/",
          "height": 38
        },
        "outputId": "2e2f4eea-0205-4cf4-fa46-f8e7e3188e17"
      },
      "source": [
        "%%html\n",
        "<marquee style='width: 50%; color: Green;'>Welcome to Tutorialspoint!</marquee>\n"
      ],
      "execution_count": 28,
      "outputs": [
        {
          "output_type": "display_data",
          "data": {
            "text/html": [
              "<marquee style='width: 50%; color: Green;'>Welcome to Tutorialspoint!</marquee>"
            ],
            "text/plain": [
              "<IPython.core.display.HTML object>"
            ]
          },
          "metadata": {
            "tags": []
          }
        }
      ]
    },
    {
      "cell_type": "code",
      "metadata": {
        "id": "Yyi_qtJqXWM8",
        "colab_type": "code",
        "colab": {
          "base_uri": "https://localhost:8080/",
          "height": 421
        },
        "outputId": "3ef9727d-fe99-4576-e306-e7867fb9162b"
      },
      "source": [
        "%%html\n",
        "<svg xmlns=\"https://www.w3.org/2000/svg\" viewBox=\"0 0 600 400\" width=\"400\" height=\"400\">\n",
        "   <rect x=\"10\" y=\"00\" width=\"300\" height=\"100\" rx=\"0\" style=\"fill:orange; stroke:black; fill-opacity:1.0\" />\n",
        "   <rect x=\"10\" y=\"100\" width=\"300\" height=\"100\" rx=\"0\" style=\"fill:white; stroke:black; fill-opacity:1.0;\" />\n",
        "   <rect x=\"10\" y=\"200\" width=\"300\" height=\"100\" rx=\"0\" style=\"fill:green; stroke:black; fill-opacity:1.0;\" />\n",
        "</svg>"
      ],
      "execution_count": 29,
      "outputs": [
        {
          "output_type": "display_data",
          "data": {
            "text/html": [
              "<svg xmlns=\"https://www.w3.org/2000/svg\" viewBox=\"0 0 600 400\" width=\"400\" height=\"400\">\n",
              "   <rect x=\"10\" y=\"00\" width=\"300\" height=\"100\" rx=\"0\" style=\"fill:orange; stroke:black; fill-opacity:1.0\" />\n",
              "   <rect x=\"10\" y=\"100\" width=\"300\" height=\"100\" rx=\"0\" style=\"fill:white; stroke:black; fill-opacity:1.0;\" />\n",
              "   <rect x=\"10\" y=\"200\" width=\"300\" height=\"100\" rx=\"0\" style=\"fill:green; stroke:black; fill-opacity:1.0;\" />\n",
              "</svg>"
            ],
            "text/plain": [
              "<IPython.core.display.HTML object>"
            ]
          },
          "metadata": {
            "tags": []
          }
        }
      ]
    },
    {
      "cell_type": "code",
      "metadata": {
        "id": "H97-vytKXlor",
        "colab_type": "code",
        "colab": {
          "base_uri": "https://localhost:8080/",
          "height": 156
        },
        "outputId": "b8caa21d-4ff1-471f-f369-dfae3548477f"
      },
      "source": [
        "%lsmagic"
      ],
      "execution_count": 30,
      "outputs": [
        {
          "output_type": "execute_result",
          "data": {
            "application/json": {
              "cell": {
                "prun": "ExecutionMagics",
                "file": "Other",
                "!": "OSMagics",
                "capture": "ExecutionMagics",
                "timeit": "ExecutionMagics",
                "script": "ScriptMagics",
                "pypy": "Other",
                "system": "OSMagics",
                "perl": "Other",
                "html": "DisplayMagics",
                "bash": "Other",
                "shell": "Other",
                "HTML": "Other",
                "python": "Other",
                "SVG": "Other",
                "javascript": "DisplayMagics",
                "bigquery": "Other",
                "js": "DisplayMagics",
                "writefile": "OSMagics",
                "ruby": "Other",
                "python3": "Other",
                "python2": "Other",
                "latex": "DisplayMagics",
                "sx": "OSMagics",
                "svg": "DisplayMagics",
                "sh": "Other",
                "time": "ExecutionMagics",
                "debug": "ExecutionMagics"
              },
              "line": {
                "psource": "NamespaceMagics",
                "logstart": "LoggingMagics",
                "popd": "OSMagics",
                "tensorflow_version": "Other",
                "loadpy": "CodeMagics",
                "colors": "BasicMagics",
                "who_ls": "NamespaceMagics",
                "lf": "Other",
                "ll": "Other",
                "pprint": "BasicMagics",
                "lk": "Other",
                "ls": "Other",
                "save": "CodeMagics",
                "tb": "ExecutionMagics",
                "lx": "Other",
                "pylab": "PylabMagics",
                "killbgscripts": "ScriptMagics",
                "quickref": "BasicMagics",
                "magic": "BasicMagics",
                "dhist": "OSMagics",
                "edit": "KernelMagics",
                "logstop": "LoggingMagics",
                "gui": "BasicMagics",
                "prun": "ExecutionMagics",
                "debug": "ExecutionMagics",
                "page": "BasicMagics",
                "logstate": "LoggingMagics",
                "ed": "Other",
                "pushd": "OSMagics",
                "timeit": "ExecutionMagics",
                "set_env": "OSMagics",
                "rehashx": "OSMagics",
                "hist": "Other",
                "qtconsole": "KernelMagics",
                "rm": "Other",
                "dirs": "OSMagics",
                "run": "ExecutionMagics",
                "reset_selective": "NamespaceMagics",
                "pinfo2": "NamespaceMagics",
                "matplotlib": "PylabMagics",
                "unload_ext": "ExtensionMagics",
                "doctest_mode": "BasicMagics",
                "logoff": "LoggingMagics",
                "reload_ext": "ExtensionMagics",
                "pdb": "ExecutionMagics",
                "load": "CodeMagics",
                "lsmagic": "BasicMagics",
                "autosave": "KernelMagics",
                "cd": "OSMagics",
                "pastebin": "CodeMagics",
                "alias_magic": "BasicMagics",
                "cp": "Other",
                "autocall": "AutoMagics",
                "ldir": "Other",
                "bookmark": "OSMagics",
                "connect_info": "KernelMagics",
                "mkdir": "Other",
                "system": "OSMagics",
                "whos": "NamespaceMagics",
                "rmdir": "Other",
                "automagic": "AutoMagics",
                "store": "StoreMagics",
                "more": "KernelMagics",
                "shell": "Other",
                "pdef": "NamespaceMagics",
                "precision": "BasicMagics",
                "pinfo": "NamespaceMagics",
                "pwd": "OSMagics",
                "psearch": "NamespaceMagics",
                "reset": "NamespaceMagics",
                "recall": "HistoryMagics",
                "xdel": "NamespaceMagics",
                "xmode": "BasicMagics",
                "cat": "Other",
                "mv": "Other",
                "rerun": "HistoryMagics",
                "logon": "LoggingMagics",
                "history": "HistoryMagics",
                "pycat": "OSMagics",
                "pip": "Other",
                "unalias": "OSMagics",
                "env": "OSMagics",
                "load_ext": "ExtensionMagics",
                "config": "ConfigMagics",
                "profile": "BasicMagics",
                "pfile": "NamespaceMagics",
                "less": "KernelMagics",
                "who": "NamespaceMagics",
                "notebook": "BasicMagics",
                "man": "KernelMagics",
                "sx": "OSMagics",
                "macro": "ExecutionMagics",
                "clear": "KernelMagics",
                "alias": "OSMagics",
                "time": "ExecutionMagics",
                "sc": "OSMagics",
                "rep": "Other",
                "pdoc": "NamespaceMagics"
              }
            },
            "text/plain": [
              "Available line magics:\n",
              "%alias  %alias_magic  %autocall  %automagic  %autosave  %bookmark  %cat  %cd  %clear  %colors  %config  %connect_info  %cp  %debug  %dhist  %dirs  %doctest_mode  %ed  %edit  %env  %gui  %hist  %history  %killbgscripts  %ldir  %less  %lf  %lk  %ll  %load  %load_ext  %loadpy  %logoff  %logon  %logstart  %logstate  %logstop  %ls  %lsmagic  %lx  %macro  %magic  %man  %matplotlib  %mkdir  %more  %mv  %notebook  %page  %pastebin  %pdb  %pdef  %pdoc  %pfile  %pinfo  %pinfo2  %pip  %popd  %pprint  %precision  %profile  %prun  %psearch  %psource  %pushd  %pwd  %pycat  %pylab  %qtconsole  %quickref  %recall  %rehashx  %reload_ext  %rep  %rerun  %reset  %reset_selective  %rm  %rmdir  %run  %save  %sc  %set_env  %shell  %store  %sx  %system  %tb  %tensorflow_version  %time  %timeit  %unalias  %unload_ext  %who  %who_ls  %whos  %xdel  %xmode\n",
              "\n",
              "Available cell magics:\n",
              "%%!  %%HTML  %%SVG  %%bash  %%bigquery  %%capture  %%debug  %%file  %%html  %%javascript  %%js  %%latex  %%perl  %%prun  %%pypy  %%python  %%python2  %%python3  %%ruby  %%script  %%sh  %%shell  %%svg  %%sx  %%system  %%time  %%timeit  %%writefile\n",
              "\n",
              "Automagic is ON, % prefix IS NOT needed for line magics."
            ]
          },
          "metadata": {
            "tags": []
          },
          "execution_count": 30
        }
      ]
    },
    {
      "cell_type": "code",
      "metadata": {
        "id": "VECEP4N4X8gy",
        "colab_type": "code",
        "colab": {}
      },
      "source": [
        "#@title Form\n",
        "sleeptime =  5#@param {type:\"integer\"}\n"
      ],
      "execution_count": 0,
      "outputs": []
    },
    {
      "cell_type": "code",
      "metadata": {
        "id": "nWATtW9dY0B7",
        "colab_type": "code",
        "colab": {
          "base_uri": "https://localhost:8080/",
          "height": 51
        },
        "outputId": "d8894767-f4d9-448c-aeb6-f82edfbe132f"
      },
      "source": [
        "import time\n",
        "print(time.ctime())\n",
        "time.sleep(sleeptime)\n",
        "print (time.ctime())"
      ],
      "execution_count": 35,
      "outputs": [
        {
          "output_type": "stream",
          "text": [
            "Fri Jan 31 02:17:43 2020\n",
            "Fri Jan 31 02:17:48 2020\n"
          ],
          "name": "stdout"
        }
      ]
    }
  ]
}